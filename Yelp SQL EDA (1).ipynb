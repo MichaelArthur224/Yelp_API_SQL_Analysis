{
 "cells": [
  {
   "cell_type": "code",
   "execution_count": 1,
   "id": "4cdc398f",
   "metadata": {},
   "outputs": [],
   "source": [
    "import mysql.connector\n",
    "import pandas as pd"
   ]
  },
  {
   "cell_type": "code",
   "execution_count": 2,
   "id": "5afd9908",
   "metadata": {},
   "outputs": [],
   "source": [
    "config = {\n",
    "  'user': \"root\",\n",
    "  'password': \"root\",\n",
    "  'host': 'localhost',\n",
    "  'database': \"yelp_mexican_food\",\n",
    "  'raise_on_warnings': True\n",
    "}"
   ]
  },
  {
   "cell_type": "code",
   "execution_count": 3,
   "id": "ac1bf3a9",
   "metadata": {},
   "outputs": [],
   "source": [
    "# connect to the MySQL database\n",
    "connection = mysql.connector.connect(**config)\n",
    "\n",
    "# create a cursor object to execute SQL queries\n",
    "cursor = connection.cursor()"
   ]
  },
  {
   "cell_type": "code",
   "execution_count": 4,
   "id": "142acc82",
   "metadata": {},
   "outputs": [
    {
     "data": {
      "text/plain": [
       "[(0,\n",
       "  'taqueria-don-pepe-fresno-2',\n",
       "  'Taqueria Don Pepe',\n",
       "  0,\n",
       "  655,\n",
       "  'alias: mexican, title: Mexican',\n",
       "  4.5,\n",
       "  \"['delivery']\",\n",
       "  '$',\n",
       "  'address1: 4582 N Blackstone Ave, address2: , address3: , city: Fresno, zip_code: 93726, country: US, state: CA, display_address: 4582 N Blackstone Ave, Fresno, CA 93726',\n",
       "  15592241431.0,\n",
       "  '(559) 224-1431'),\n",
       " (1,\n",
       "  'cocina-village-fresno',\n",
       "  'Cocina Village',\n",
       "  0,\n",
       "  308,\n",
       "  'alias: mexican, title: Mexican',\n",
       "  4.5,\n",
       "  \"['pickup', 'delivery']\",\n",
       "  '$$',\n",
       "  'address1: 3050 W Shaw Ave, address2: Ste 111, address3: , city: Fresno, zip_code: 93711, country: US, state: CA, display_address: 3050 W Shaw Ave, Ste 111, Fresno, CA 93711',\n",
       "  15598401663.0,\n",
       "  '(559) 840-1663'),\n",
       " (2,\n",
       "  'la-enchilada-fresno',\n",
       "  'La Enchilada',\n",
       "  0,\n",
       "  103,\n",
       "  'alias: mexican, title: Mexican',\n",
       "  4.5,\n",
       "  \"['pickup', 'delivery']\",\n",
       "  '$',\n",
       "  'address1: 3848 N Blackstone Ave, address2: , address3: , city: Fresno, zip_code: 93726, country: US, state: CA, display_address: 3848 N Blackstone Ave, Fresno, CA 93726',\n",
       "  15592270244.0,\n",
       "  '(559) 227-0244'),\n",
       " (3,\n",
       "  'market-cocina-fresno',\n",
       "  'Market Cocina',\n",
       "  0,\n",
       "  1,\n",
       "  'alias: mexican, title: Mexican',\n",
       "  5.0,\n",
       "  \"['delivery']\",\n",
       "  None,\n",
       "  'address1: 650 W Shaw Ave, address2: None, address3: Whole Foods Market, city: Fresno, zip_code: 93704, country: US, state: CA, display_address: 650 W Shaw Ave, Whole Foods Market, Fresno, CA 93704',\n",
       "  15592410300.0,\n",
       "  '(559) 241-0300'),\n",
       " (4,\n",
       "  'sabor-cocina-latina-and-bar-fresno',\n",
       "  'Sabor Cocina Latina & Bar',\n",
       "  0,\n",
       "  361,\n",
       "  'alias: latin, title: Latin American, alias: newmexican, title: New Mexican Cuisine',\n",
       "  4.5,\n",
       "  \"['delivery']\",\n",
       "  '$$',\n",
       "  'address1: 7845 N Palm Ave, address2: Ste 104, address3: , city: Fresno, zip_code: 93711, country: US, state: CA, display_address: 7845 N Palm Ave, Ste 104, Fresno, CA 93711',\n",
       "  15593751644.0,\n",
       "  '(559) 375-1644')]"
      ]
     },
     "execution_count": 4,
     "metadata": {},
     "output_type": "execute_result"
    }
   ],
   "source": [
    "# view\n",
    "cursor.execute('SELECT * FROM final_df LIMIT 5')\n",
    "cursor.fetchall()"
   ]
  },
  {
   "cell_type": "markdown",
   "id": "1dc09b61",
   "metadata": {},
   "source": [
    "# Cleaning"
   ]
  },
  {
   "cell_type": "code",
   "execution_count": 5,
   "id": "1cdf0b01",
   "metadata": {},
   "outputs": [
    {
     "data": {
      "text/plain": [
       "[]"
      ]
     },
     "execution_count": 5,
     "metadata": {},
     "output_type": "execute_result"
    }
   ],
   "source": [
    "# update safe settings\n",
    "cursor.execute(\"SET SQL_SAFE_UPDATES = 0;\")\n",
    "cursor.fetchall()"
   ]
  },
  {
   "cell_type": "code",
   "execution_count": 6,
   "id": "9ce7643d",
   "metadata": {},
   "outputs": [
    {
     "data": {
      "text/plain": [
       "[(0,\n",
       "  'taqueria-don-pepe-fresno-2',\n",
       "  'Taqueria Don Pepe',\n",
       "  0,\n",
       "  655,\n",
       "  'alias: mexican, title: Mexican',\n",
       "  4.5,\n",
       "  \"['delivery']\",\n",
       "  '$',\n",
       "  'address1: 4582 N Blackstone Ave, address2: , address3: , city: Fresno, zip_code: 93726, country: US, state: CA, display_address: 4582 N Blackstone Ave, Fresno, CA 93726',\n",
       "  15592241431.0,\n",
       "  '(559) 224-1431')]"
      ]
     },
     "execution_count": 6,
     "metadata": {},
     "output_type": "execute_result"
    }
   ],
   "source": [
    "# remove duplicates\n",
    "clean2 = cursor.execute('SELECT DISTINCT * FROM final_df LIMIT 1;')\n",
    "cursor.fetchall()"
   ]
  },
  {
   "cell_type": "code",
   "execution_count": 7,
   "id": "5d3de8e9",
   "metadata": {},
   "outputs": [
    {
     "data": {
      "text/plain": [
       "[]"
      ]
     },
     "execution_count": 7,
     "metadata": {},
     "output_type": "execute_result"
    }
   ],
   "source": [
    "# drop columns\n",
    "cursor.execute('ALTER TABLE final_df DROP COLUMN phone, DROP COLUMN display_phone;')\n",
    "cursor.fetchall()"
   ]
  },
  {
   "cell_type": "code",
   "execution_count": 8,
   "id": "3c874009",
   "metadata": {},
   "outputs": [
    {
     "data": {
      "text/plain": [
       "[]"
      ]
     },
     "execution_count": 8,
     "metadata": {},
     "output_type": "execute_result"
    }
   ],
   "source": [
    "# drop null columns \n",
    "cursor.execute('DELETE FROM final_df WHERE name IS NULL OR is_closed IS NULL OR review_count IS NULL OR categories IS NULL OR rating IS NULL OR transactions IS NULL OR price IS NULL;')\n",
    "cursor.fetchall()"
   ]
  },
  {
   "cell_type": "code",
   "execution_count": 9,
   "id": "faca7ac9",
   "metadata": {},
   "outputs": [
    {
     "data": {
      "text/plain": [
       "[]"
      ]
     },
     "execution_count": 9,
     "metadata": {},
     "output_type": "execute_result"
    }
   ],
   "source": [
    "# delete closed locations\n",
    "cursor.execute('DELETE FROM final_df WHERE is_closed = 1;')\n",
    "cursor.fetchall()"
   ]
  },
  {
   "cell_type": "code",
   "execution_count": 10,
   "id": "51faca93",
   "metadata": {
    "scrolled": true
   },
   "outputs": [],
   "source": [
    "# view final results\n",
    "cursor.execute('SELECT * FROM final_df LIMIT 1;')\n",
    "results = cursor.fetchall()"
   ]
  },
  {
   "cell_type": "code",
   "execution_count": 11,
   "id": "911fe7cd",
   "metadata": {},
   "outputs": [],
   "source": [
    "# Convert the results to a DataFrame\n",
    "df = pd.DataFrame(results)\n",
    "\n",
    "df.to_csv('clean_yelp_food.csv', index=False)"
   ]
  },
  {
   "cell_type": "markdown",
   "id": "12194b82",
   "metadata": {},
   "source": [
    "# EDA"
   ]
  },
  {
   "cell_type": "markdown",
   "id": "efedb252",
   "metadata": {},
   "source": [
    "Questions\n",
    "1. What restaurant has the best ratings\n",
    "2. What restaurant has the worst ratings\n",
    "3. Which restaurants offer delivery with a high rating\n"
   ]
  },
  {
   "cell_type": "code",
   "execution_count": 12,
   "id": "f8e4058c",
   "metadata": {},
   "outputs": [],
   "source": [
    "cursor.execute('SELECT alias, rating FROM final_df ORDER BY rating DESC LIMIT 5;')\n",
    "sql2 = cursor.fetchall()"
   ]
  },
  {
   "cell_type": "code",
   "execution_count": 13,
   "id": "cce3f4fd",
   "metadata": {},
   "outputs": [
    {
     "data": {
      "text/plain": [
       "[('garrafa-fresno', 5.0),\n",
       " ('la-mexicana-bakery-and-taqueria-fresno', 5.0),\n",
       " ('julis-taqueria-fresno', 5.0),\n",
       " ('taconazo-fresno', 5.0),\n",
       " ('tacos-el-pelon-ricardo-torres-fresno', 5.0)]"
      ]
     },
     "execution_count": 13,
     "metadata": {},
     "output_type": "execute_result"
    }
   ],
   "source": [
    "# top 5 highest rated restaurants\n",
    "sql2"
   ]
  },
  {
   "cell_type": "code",
   "execution_count": 14,
   "id": "be136f52",
   "metadata": {},
   "outputs": [],
   "source": [
    "cursor.execute('SELECT alias, rating FROM final_df ORDER BY rating LIMIT 5;')\n",
    "sql3 = cursor.fetchall()"
   ]
  },
  {
   "cell_type": "code",
   "execution_count": 15,
   "id": "f60d1a7b",
   "metadata": {},
   "outputs": [
    {
     "data": {
      "text/plain": [
       "[('jack-in-the-box-fresno-13', 1.0),\n",
       " ('salsa-tequila-and-grill-fresno', 1.5),\n",
       " ('culichi-town-fresno', 2.0),\n",
       " ('arsenios-fresno-9', 2.0),\n",
       " ('el-pollo-loco-fresno-7', 2.0)]"
      ]
     },
     "execution_count": 15,
     "metadata": {},
     "output_type": "execute_result"
    }
   ],
   "source": [
    "# top 5 lowest rated restaurants\n",
    "sql3"
   ]
  },
  {
   "cell_type": "code",
   "execution_count": 16,
   "id": "2ab1cdbc",
   "metadata": {},
   "outputs": [],
   "source": [
    "cursor.execute(\"SELECT alias,rating, transactions FROM final_df WHERE transactions LIKE '%delivery%' LIMIT 5;\")\n",
    "sql4 = cursor.fetchall()"
   ]
  },
  {
   "cell_type": "code",
   "execution_count": 17,
   "id": "c2a94544",
   "metadata": {},
   "outputs": [
    {
     "data": {
      "text/plain": [
       "[('taqueria-don-pepe-fresno-2', 4.5, \"['delivery']\"),\n",
       " ('cocina-village-fresno', 4.5, \"['pickup', 'delivery']\"),\n",
       " ('la-enchilada-fresno', 4.5, \"['pickup', 'delivery']\"),\n",
       " ('sabor-cocina-latina-and-bar-fresno', 4.5, \"['delivery']\"),\n",
       " ('pico-de-gallo-mexican-food-fresno-2', 4.0, \"['pickup', 'delivery']\")]"
      ]
     },
     "execution_count": 17,
     "metadata": {},
     "output_type": "execute_result"
    }
   ],
   "source": [
    "# top 5 highest rated restaurants that offer delivery\n",
    "sql4"
   ]
  },
  {
   "cell_type": "code",
   "execution_count": 18,
   "id": "4b5d3d88",
   "metadata": {},
   "outputs": [
    {
     "data": {
      "text/plain": [
       "True"
      ]
     },
     "execution_count": 18,
     "metadata": {},
     "output_type": "execute_result"
    }
   ],
   "source": [
    "cursor.close()"
   ]
  }
 ],
 "metadata": {
  "kernelspec": {
   "display_name": "Python (dojo-env)",
   "language": "python",
   "name": "dojo-env"
  },
  "language_info": {
   "codemirror_mode": {
    "name": "ipython",
    "version": 3
   },
   "file_extension": ".py",
   "mimetype": "text/x-python",
   "name": "python",
   "nbconvert_exporter": "python",
   "pygments_lexer": "ipython3",
   "version": "3.9.15"
  }
 },
 "nbformat": 4,
 "nbformat_minor": 5
}
